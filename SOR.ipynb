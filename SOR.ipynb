{
  "nbformat": 4,
  "nbformat_minor": 0,
  "metadata": {
    "colab": {
      "name": "SOR.ipynb",
      "provenance": [],
      "collapsed_sections": []
    },
    "kernelspec": {
      "name": "python3",
      "display_name": "Python 3"
    }
  },
  "cells": [
    {
      "cell_type": "code",
      "metadata": {
        "id": "IJ-umhXE23j_"
      },
      "source": [
        "def get_properties(filename,wanted_properties):\n",
        "    with open(filename,'r') as output_file:\n",
        "        lines = output_file.readlines()\n",
        "    \n",
        "    properties = {}\n",
        "    \n",
        "    final_G_index = [line_number for line_number,line in enumerate(lines) if 'Final free energy' in line]\n",
        "    lines_bottom = lines[final_G_index[0]:]\n",
        "\n",
        "    parameters = {'S_eV':{'expression':'Entropy','after':0,'field':2},\n",
        "                  'S_J/molK':{'expression':'Entropy','after':1,'field':1},\n",
        "                  'G_eV':{'expression':'Total free energy :','after':1,'field':4},\n",
        "                  'G_kJ/molK':{'expression':'Total free energy (in kJmol-1)','after':1,'field':4},\n",
        "                  'G_defect_eV':{'expression':'Final defect energy','after':0,'field':4},\n",
        "                  **{f'sdlc{i}{j}':{'expression':'Static dielectric constant tensor :','after':4+i,'field':j} for i in (1,2,3) for j in (1,2,3)},\n",
        "                  **{f'hfdlc{i}{j}':{'expression':'High frequency dielectric constant tensor :','after':4+i,'field':j} for i in (1,2,3) for j in (1,2,3)},\n",
        "                  **{f'C{i}{j}':{'expression':'Elastic Constant Matrix: (Units=GPa)','after':4+i,'field':j} for i in (1,2,3,4,5,6) for j in (1,2,3,4,5,6)},\n",
        "                  **{f'bulk_modulus_{i}':{'expression':'Mechanical properties :','after':5,'field':4+('Reuss', 'Voigt', 'Hill').index(i)} for i in ('Reuss', 'Voigt', 'Hill')},\n",
        "                  **{f'lattice_parameter_{i}':{'expression':'Comparison of initial and final structures :','after':6+('a', 'b', 'c').index(i),'field':2} for i in ('a', 'b', 'c')}}\n",
        "\n",
        "    for element in wanted_properties:\n",
        "        expression = parameters[element]['expression']\n",
        "        after = parameters[element]['after']\n",
        "        field = parameters[element]['field']  \n",
        "        for line_number,line in enumerate(lines_bottom):\n",
        "            if expression in line: \n",
        "                properties[wanted_properties[wanted_properties.index(element)]] = lines_bottom[line_number+after].split()[field]\n",
        "\n",
        "    return(properties)"
      ],
      "execution_count": null,
      "outputs": []
    },
    {
      "cell_type": "code",
      "metadata": {
        "id": "XXLsJsugoAJm"
      },
      "source": [
        "import csv\n",
        "\n",
        "caminho = '/content/drive/My Drive/Colab Notebooks/'\n",
        "wanted_properties = ['G_defect_eV','lattice_parameter_a','C11','S_eV','S_J/molK']\n",
        "\n",
        "valor_inicial = 300\n",
        "valor_final = 310\n",
        "passo = 10\n",
        "\n",
        "with open('/content/drive/My Drive/Colab Notebooks/Saida.csv','w') as arquivo:\n",
        "\n",
        "    writer = csv.writer(arquivo)\n",
        "    writer.writerow(wanted_properties)\n",
        "    \n",
        "    for i in range(valor_inicial,valor_final + passo,passo):\n",
        "        j = float(i)\n",
        "        filename = f'Li2S_v_Li_New({j}).out' #f'Li2S_v_Li_New({j}).out' f'Li2S_New({j}).out' \n",
        "        fullname = caminho + filename\n",
        "        propriedades = get_properties(fullname,wanted_properties)\n",
        "        writer.writerow(list(propriedades.values()))"
      ],
      "execution_count": null,
      "outputs": []
    },
    {
      "cell_type": "code",
      "metadata": {
        "id": "azoGi2eTrqK2"
      },
      "source": [
        ""
      ],
      "execution_count": null,
      "outputs": []
    }
  ]
}