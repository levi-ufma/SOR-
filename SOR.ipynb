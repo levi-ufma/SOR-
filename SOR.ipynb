{
  "nbformat": 4,
  "nbformat_minor": 0,
  "metadata": {
    "colab": {
      "name": "SOR.ipynb",
      "provenance": [],
      "collapsed_sections": [],
      "toc_visible": true
    },
    "kernelspec": {
      "name": "python3",
      "display_name": "Python 3"
    }
  },
  "cells": [
    {
      "cell_type": "markdown",
      "metadata": {
        "id": "xsZvaZgIfaGZ"
      },
      "source": [
        "# Ultima alteração 28.10.2020"
      ]
    },
    {
      "cell_type": "code",
      "metadata": {
        "id": "F7Cta6avPDvZ",
        "outputId": "a27ffd20-ad85-4d6f-ff85-f95b8ba82d3d",
        "colab": {
          "base_uri": "https://localhost:8080/"
        }
      },
      "source": [
        "def get_properties(filename,wanted_properties):\n",
        "    with open(filename,'r') as output_file:\n",
        "        lines = output_file.readlines()\n",
        "    \n",
        "    properties = {}\n",
        "    \n",
        "    final_G_index = [line_number for line_number,line in enumerate(lines) if 'Final free energy' in line]\n",
        "    lines_bottom = lines[final_G_index[0]:]\n",
        "\n",
        "    parameters = {'S_eV':{'expression':'Entropy','after':0,'field':2},\n",
        "                  'S_J/molK':{'expression':'Entropy','after':1,'field':1},\n",
        "                  'G_eV':{'expression':'Total free energy :','after':1,'field':4},\n",
        "                  'G_kJ/molK':{'expression':'Total free energy (in kJmol-1)','after':1,'field':4},\n",
        "                  **{f'sdlc{i}{j}':{'expression':'Static dielectric constant tensor :','after':4+i,'field':j} for i in (1,2,3) for j in (1,2,3)},\n",
        "                  **{f'hfdlc{i}{j}':{'expression':'High frequency dielectric constant tensor :','after':4+i,'field':j} for i in (1,2,3) for j in (1,2,3)},\n",
        "                  **{f'C{i}{j}':{'expression':'Elastic Constant Matrix: (Units=GPa)','after':4+i,'field':j} for i in (1,2,3,4,5,6) for j in (1,2,3,4,5,6)},\n",
        "                  **{f'bulk_modulus_{i}':{'expression':'Mechanical properties :','after':5,'field':4+('Reuss', 'Voigt', 'Hill').index(i)} for i in ('Reuss', 'Voigt', 'Hill')},\n",
        "                  'lattice_parameter_a':{'expression':'Comparison of initial and final structures :','after':6,'field':2},\n",
        "                  'lattice_parameter_b':{'expression':'Comparison of initial and final structures :','after':7,'field':2},\n",
        "                  'lattice_parameter_c':{'expression':'Comparison of initial and final structures :','after':8,'field':2}}\n",
        "\n",
        "    for element in wanted_properties:\n",
        "        expression = parameters[element]['expression']\n",
        "        after = parameters[element]['after']\n",
        "        field = parameters[element]['field']  \n",
        "        for line_number,line in enumerate(lines_bottom):\n",
        "            if expression in line: \n",
        "                properties[wanted_properties[wanted_properties.index(element)]] = lines_bottom[line_number+after].split()[field]\n",
        "\n",
        "    return(properties)\n",
        "\n",
        "print(get_properties(\"/content/drive/My Drive/Colab Notebooks/Li2S_New(300.0).out\",['lattice_parameter_a','lattice_parameter_b','lattice_parameter_c']))"
      ],
      "execution_count": 5,
      "outputs": [
        {
          "output_type": "stream",
          "text": [
            "{'lattice_parameter_a': 'a5.710467', 'lattice_parameter_b': 'b5.710467', 'lattice_parameter_c': 'c5.710467'}\n"
          ],
          "name": "stdout"
        }
      ]
    },
    {
      "cell_type": "code",
      "metadata": {
        "id": "PL3yQn1BfPeu"
      },
      "source": [
        ""
      ],
      "execution_count": null,
      "outputs": []
    }
  ]
}