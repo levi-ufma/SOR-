{
  "nbformat": 4,
  "nbformat_minor": 0,
  "metadata": {
    "colab": {
      "name": "SOR.ipynb",
      "provenance": [],
      "collapsed_sections": [],
      "toc_visible": true
    },
    "kernelspec": {
      "name": "python3",
      "display_name": "Python 3"
    }
  },
  "cells": [
    {
      "cell_type": "markdown",
      "metadata": {
        "id": "xsZvaZgIfaGZ"
      },
      "source": [
        "# Ultima alteração 27.10.2020"
      ]
    },
    {
      "cell_type": "code",
      "metadata": {
        "id": "F7Cta6avPDvZ",
        "outputId": "ead9e8b8-7eec-4ca1-ea1d-355ee5260d4c",
        "colab": {
          "base_uri": "https://localhost:8080/",
          "height": 54
        }
      },
      "source": [
        "def get_properties(filename,wanted_properties):\n",
        "    with open(filename,'r') as output_file:\n",
        "        lines = output_file.readlines()\n",
        "    \n",
        "    properties = {}\n",
        "    \n",
        "    final_G_index = [line_number for line_number,line in enumerate(lines) if 'Final free energy' in line]\n",
        "    lines_bottom = lines[final_G_index[0]:]\n",
        "\n",
        "    parameters = {'S_eV'{
  "nbformat": 4,
  "nbformat_minor": 0,
  "metadata": {
    "colab": {
      "name": "SOR.ipynb",
      "provenance": [],
      "collapsed_sections": [],
      "toc_visible": true
    },
    "kernelspec": {
      "name": "python3",
      "display_name": "Python 3"
    }
  },
  "cells": [
    {
      "cell_type": "markdown",
      "metadata": {
        "id": "xsZvaZgIfaGZ"
      },
      "source": [
        "# Ultima alteração 27.10.2020"
      ]
    },
    {
      "cell_type": "code",
      "metadata": {
        "id": "F7Cta6avPDvZ",
        "outputId": "ead9e8b8-7eec-4ca1-ea1d-355ee5260d4c",
        "colab": {
          "base_uri": "https://localhost:8080/",
          "height": 54
        }
      },
      "source": [
        "def get_properties(filename,wanted_properties):\n",
        "    with open(filename,'r') as output_file:\n",
        "        lines = output_file.readlines()\n",
        "    \n",
        "    properties = {}\n",
        "    \n",
        "    final_G_index = [line_number for line_number,line in enumerate(lines) if 'Final free energy' in line]\n",
        "    lines_bottom = lines[final_G_index[0]:]\n",
        "\n",
        "    parameters = {'S_eV':{'expression':'Entropy','after':0,'field':2},\n",
        "                  'S_J/molK':{'expression':'Entropy','after':1,'field':1},\n",
        "                  'G_eV':{'expression':'Total free energy :','after':1,'field':4},\n",
        "                  'G_kJ/molK':{'expression':'Total free energy (in kJmol-1)','after':1,'field':4},\n",
        "                  **{f'sdlc{i}{j}':{'expression':'Static dielectric constant tensor :','after':4+i,'field':j} for i in (1,2,3) for j in (1,2,3)},\n",
        "                  **{f'hfdlc{i}{j}':{'expression':'High frequency dielectric constant tensor :','after':4+i,'field':j} for i in (1,2,3) for j in (1,2,3)},\n",
        "                  **{f'C{i}{j}':{'expression':'Elastic Constant Matrix: (Units=GPa)','after':4+i,'field':j} for i in (1,2,3,4,5,6) for j in (1,2,3,4,5,6)},\n",
        "                  **{f'bulk_modulus_{i}':{'expression':'Mechanical properties :','after':5,'field':4+('Reuss', 'Voigt', 'Hill').index(i)} for i in ('Reuss', 'Voigt', 'Hill')}}\n",
        "\n",
        "    for element in wanted_properties:\n",
        "        expression = parameters[element]['expression']\n",
        "        after = parameters[element]['after']\n",
        "        field = parameters[element]['field']  \n",
        "        for line_number,line in enumerate(lines_bottom):\n",
        "            if expression in line: \n",
        "                properties[wanted_properties[wanted_properties.index(element)]] = lines_bottom[line_number+after].split()[field]\n",
        "\n",
        "    return(properties)\n",
        "\n",
        "print(get_properties(\"/content/drive/My Drive/Colab Notebooks/Li2S_New(300.0).out\",['S_eV','S_J/molK','G_eV','G_kJ/molK','sdlc11','hfdlc11','C11','bulk_modulus_Reuss']))"
      ],
      "execution_count": null,
      "outputs": [
        {
          "output_type": "stream",
          "text": [
            "{'S_eV': '0.000678', 'S_J/molK': '65.435130', 'G_eV': '-24.86106012', 'G_kJ/molK': '-2398.7123', 'sdlc11': '9.10439', 'hfdlc11': '2.83901', 'C11': '96.5770', 'bulk_modulus_Reuss': '46.44211'}\n"
          ],
          "name": "stdout"
        }
      ]
    },
    {
      "cell_type": "code",
      "metadata": {
        "id": "PL3yQn1BfPeu"
      },
      "source": [
        ""
      ],
      "execution_count": null,
      "outputs": []
    }
  ]
}:{'expression':'Entropy','after':0,'field':2},\n",
        "                  'S_J/molK':{'expression':'Entropy','after':1,'field':1},\n",
        "                  'G_eV':{'expression':'Total free energy :','after':1,'field':4},\n",
        "                  'G_kJ/molK':{'expression':'Total free energy (in kJmol-1)','after':1,'field':4},\n",
        "                  **{f'sdlc{i}{j}':{'expression':'Static dielectric constant tensor :','after':4+i,'field':j} for i in (1,2,3) for j in (1,2,3)},\n",
        "                  **{f'hfdlc{i}{j}':{'expression':'High frequency dielectric constant tensor :','after':4+i,'field':j} for i in (1,2,3) for j in (1,2,3)},\n",
        "                  **{f'C{i}{j}':{'expression':'Elastic Constant Matrix: (Units=GPa)','after':4+i,'field':j} for i in (1,2,3,4,5,6) for j in (1,2,3,4,5,6)},\n",
        "                  **{f'bulk_modulus_{i}':{'expression':'Mechanical properties :','after':5,'field':4+('Reuss', 'Voigt', 'Hill').index(i)} for i in ('Reuss', 'Voigt', 'Hill')}}\n",
        "\n",
        "    for element in wanted_properties:\n",
        "        expression = parameters[element]['expression']\n",
        "        after = parameters[element]['after']\n",
        "        field = parameters[element]['field']  \n",
        "        for line_number,line in enumerate(lines_bottom):\n",
        "            if expression in line: \n",
        "                properties[wanted_properties[wanted_properties.index(element)]] = lines_bottom[line_number+after].split()[field]\n",
        "\n",
        "    return(properties)\n",
        "\n",
        "print(get_properties(\"/content/drive/My Drive/Colab Notebooks/Li2S_New(300.0).out\",['S_eV','S_J/molK','G_eV','G_kJ/molK','sdlc11','hfdlc11','C11','bulk_modulus_Reuss']))"
      ],
      "execution_count": null,
      "outputs": [
        {
          "output_type": "stream",
          "text": [
            "{'S_eV': '0.000678', 'S_J/molK': '65.435130', 'G_eV': '-24.86106012', 'G_kJ/molK': '-2398.7123', 'sdlc11': '9.10439', 'hfdlc11': '2.83901', 'C11': '96.5770', 'bulk_modulus_Reuss': '46.44211'}\n"
          ],
          "name": "stdout"
        }
      ]
    },
    {
      "cell_type": "code",
      "metadata": {
        "id": "PL3yQn1BfPeu"
      },
      "source": [
        ""
      ],
      "execution_count": null,
      "outputs": []
    }
  ]
}
