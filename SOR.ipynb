{
  "nbformat": 4,
  "nbformat_minor": 0,
  "metadata": {
    "colab": {
      "name": "SOR.ipynb",
      "provenance": [],
      "collapsed_sections": []
    },
    "kernelspec": {
      "name": "python3",
      "display_name": "Python 3"
    }
  },
  "cells": [
    {
      "cell_type": "markdown",
      "metadata": {
        "id": "xsZvaZgIfaGZ"
      },
      "source": [
        "# Ultima alteração 30.10.2020"
      ]
    },
    {
      "cell_type": "code",
      "metadata": {
        "id": "IJ-umhXE23j_",
        "outputId": "e11e1b9a-6e9b-4484-f0cf-bb59587237eb",
        "colab": {
          "base_uri": "https://localhost:8080/"
        }
      },
      "source": [
        "def get_properties(filename,wanted_properties):\n",
        "    with open(filename,'r') as output_file:\n",
        "        lines = output_file.readlines()\n",
        "    \n",
        "    properties = {}\n",
        "    \n",
        "    final_G_index = [line_number for line_number,line in enumerate(lines) if 'Final free energy' in line]\n",
        "    lines_bottom = lines[final_G_index[0]:]\n",
        "\n",
        "    parameters = {'S_eV':{'expression':'Entropy','after':0,'field':2},\n",
        "                  'S_J/molK':{'expression':'Entropy','after':1,'field':1},\n",
        "                  'G_eV':{'expression':'Total free energy :','after':1,'field':4},\n",
        "                  'G_kJ/molK':{'expression':'Total free energy (in kJmol-1)','after':1,'field':4},\n",
        "                  **{f'sdlc{i}{j}':{'expression':'Static dielectric constant tensor :','after':4+i,'field':j} for i in (1,2,3) for j in (1,2,3)},\n",
        "                  **{f'hfdlc{i}{j}':{'expression':'High frequency dielectric constant tensor :','after':4+i,'field':j} for i in (1,2,3) for j in (1,2,3)},\n",
        "                  **{f'C{i}{j}':{'expression':'Elastic Constant Matrix: (Units=GPa)','after':4+i,'field':j} for i in (1,2,3,4,5,6) for j in (1,2,3,4,5,6)},\n",
        "                  **{f'bulk_modulus_{i}':{'expression':'Mechanical properties :','after':5,'field':4+('Reuss', 'Voigt', 'Hill').index(i)} for i in ('Reuss', 'Voigt', 'Hill')},\n",
        "                  **{f'lattice_parameter_{i}':{'expression':'Comparison of initial and final structures :','after':6+('a', 'b', 'c').index(i),'field':2} for i in ('a', 'b', 'c')}}\n",
        "\n",
        "    for element in wanted_properties:\n",
        "        expression = parameters[element]['expression']\n",
        "        after = parameters[element]['after']\n",
        "        field = parameters[element]['field']  \n",
        "        for line_number,line in enumerate(lines_bottom):\n",
        "            if expression in line: \n",
        "                properties[wanted_properties[wanted_properties.index(element)]] = lines_bottom[line_number+after].split()[field]\n",
        "\n",
        "    return(properties)\n",
        "# Busca em vários arquivo. Deve-se apenas selecionar o intervalor de busca\n",
        "for i in range(300,320,10):\n",
        "    j = float(i)\n",
        "    print(get_properties(f'/content/drive/My Drive/Colab Notebooks/Li2S_New({j}).out',['lattice_parameter_a','lattice_parameter_b','lattice_parameter_c']))"
      ],
      "execution_count": 12,
      "outputs": [
        {
          "output_type": "stream",
          "text": [
            "{'lattice_parameter_a': '5.710467', 'lattice_parameter_b': '5.710467', 'lattice_parameter_c': '5.710467'}\n",
            "{'lattice_parameter_a': '5.711755', 'lattice_parameter_b': '5.711755', 'lattice_parameter_c': '5.711755'}\n"
          ],
          "name": "stdout"
        }
      ]
    }
  ]
}